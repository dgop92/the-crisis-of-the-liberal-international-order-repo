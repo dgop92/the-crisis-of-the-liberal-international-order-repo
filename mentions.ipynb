{
 "cells": [
  {
   "cell_type": "markdown",
   "metadata": {},
   "source": [
    "# Mentions"
   ]
  },
  {
   "cell_type": "code",
   "execution_count": 1,
   "metadata": {},
   "outputs": [],
   "source": [
    "COMMUNITY_MAP_PATH = 'data/community_map.pickle'\n",
    "MENTION_MAP_PATH = 'data/mention_map.pickle'"
   ]
  },
  {
   "cell_type": "markdown",
   "metadata": {},
   "source": [
    "## Utils"
   ]
  },
  {
   "cell_type": "code",
   "execution_count": 2,
   "metadata": {},
   "outputs": [],
   "source": [
    "import pickle\n",
    "\n",
    "def load_data_from_pickle(filename: str):\n",
    "    with open(filename, \"rb\") as f:\n",
    "        return pickle.load(f)"
   ]
  },
  {
   "cell_type": "code",
   "execution_count": 3,
   "metadata": {},
   "outputs": [],
   "source": [
    "import pandas as pd\n",
    "from typing import Dict, List, Tuple\n",
    "from collections import defaultdict\n",
    "\n",
    "def load_comm_mention_map_as_df() -> pd.DataFrame:\n",
    "    community_map: Dict[str, int] = load_data_from_pickle(\n",
    "        COMMUNITY_MAP_PATH\n",
    "    )\n",
    "    # maps the author to a list of users he mentions (user, tweet_id)\n",
    "    mention_map: Dict[str, List[Tuple[str, str]]] = \\\n",
    "        load_data_from_pickle(MENTION_MAP_PATH)\n",
    "\n",
    "    data = []\n",
    "    for author, mention_data in mention_map.items():\n",
    "        author_community = community_map.get(author, \"none\")\n",
    "        user_tweet_ids = defaultdict(list)\n",
    "        for user, tweet_id in mention_data:\n",
    "            user_tweet_ids[user].append(tweet_id)\n",
    "        for u, tweet_ids in user_tweet_ids.items():\n",
    "            count = len(tweet_ids)\n",
    "            user_community = community_map.get(u, \"none\")\n",
    "            data.append((author, author_community, u, user_community, count, tweet_ids))\n",
    "\n",
    "    df = pd.DataFrame(\n",
    "        data,\n",
    "        columns=[\n",
    "            \"author\",\n",
    "            \"author_community\",\n",
    "            \"user\",\n",
    "            \"user_community\",\n",
    "            \"count\",\n",
    "            \"original_tweets_ids\",\n",
    "        ],\n",
    "    )\n",
    "\n",
    "    return df"
   ]
  },
  {
   "cell_type": "markdown",
   "metadata": {},
   "source": [
    "## Analysis"
   ]
  },
  {
   "cell_type": "code",
   "execution_count": 4,
   "metadata": {},
   "outputs": [
    {
     "data": {
      "text/html": [
       "<div>\n",
       "<style scoped>\n",
       "    .dataframe tbody tr th:only-of-type {\n",
       "        vertical-align: middle;\n",
       "    }\n",
       "\n",
       "    .dataframe tbody tr th {\n",
       "        vertical-align: top;\n",
       "    }\n",
       "\n",
       "    .dataframe thead th {\n",
       "        text-align: right;\n",
       "    }\n",
       "</style>\n",
       "<table border=\"1\" class=\"dataframe\">\n",
       "  <thead>\n",
       "    <tr style=\"text-align: right;\">\n",
       "      <th></th>\n",
       "      <th>author</th>\n",
       "      <th>author_community</th>\n",
       "      <th>user</th>\n",
       "      <th>user_community</th>\n",
       "      <th>count</th>\n",
       "      <th>original_tweets_ids</th>\n",
       "    </tr>\n",
       "  </thead>\n",
       "  <tbody>\n",
       "    <tr>\n",
       "      <th>0</th>\n",
       "      <td>RalphTo51227093</td>\n",
       "      <td>none</td>\n",
       "      <td>realDonaldTrump</td>\n",
       "      <td>trump</td>\n",
       "      <td>1</td>\n",
       "      <td>[1312008624601018370]</td>\n",
       "    </tr>\n",
       "    <tr>\n",
       "      <th>1</th>\n",
       "      <td>RalphTo51227093</td>\n",
       "      <td>none</td>\n",
       "      <td>FLOTUS</td>\n",
       "      <td>trump</td>\n",
       "      <td>1</td>\n",
       "      <td>[1312008624601018370]</td>\n",
       "    </tr>\n",
       "    <tr>\n",
       "      <th>2</th>\n",
       "      <td>RedPill_Crusade</td>\n",
       "      <td>trump</td>\n",
       "      <td>JuliansRum</td>\n",
       "      <td>trump</td>\n",
       "      <td>1</td>\n",
       "      <td>[1328202123557933056]</td>\n",
       "    </tr>\n",
       "    <tr>\n",
       "      <th>3</th>\n",
       "      <td>RedPill_Crusade</td>\n",
       "      <td>trump</td>\n",
       "      <td>realDonaldTrump</td>\n",
       "      <td>trump</td>\n",
       "      <td>5</td>\n",
       "      <td>[1328202123557933056, 1323446679610269697, 133...</td>\n",
       "    </tr>\n",
       "    <tr>\n",
       "      <th>4</th>\n",
       "      <td>RedPill_Crusade</td>\n",
       "      <td>trump</td>\n",
       "      <td>CodeMonkeyZ</td>\n",
       "      <td>trump</td>\n",
       "      <td>1</td>\n",
       "      <td>[1330403734317375488]</td>\n",
       "    </tr>\n",
       "  </tbody>\n",
       "</table>\n",
       "</div>"
      ],
      "text/plain": [
       "            author author_community             user user_community  count  \\\n",
       "0  RalphTo51227093             none  realDonaldTrump          trump      1   \n",
       "1  RalphTo51227093             none           FLOTUS          trump      1   \n",
       "2  RedPill_Crusade            trump       JuliansRum          trump      1   \n",
       "3  RedPill_Crusade            trump  realDonaldTrump          trump      5   \n",
       "4  RedPill_Crusade            trump      CodeMonkeyZ          trump      1   \n",
       "\n",
       "                                 original_tweets_ids  \n",
       "0                              [1312008624601018370]  \n",
       "1                              [1312008624601018370]  \n",
       "2                              [1328202123557933056]  \n",
       "3  [1328202123557933056, 1323446679610269697, 133...  \n",
       "4                              [1330403734317375488]  "
      ]
     },
     "execution_count": 4,
     "metadata": {},
     "output_type": "execute_result"
    }
   ],
   "source": [
    "comm_mention_df = load_comm_mention_map_as_df()\n",
    "comm_mention_df.head()"
   ]
  },
  {
   "cell_type": "code",
   "execution_count": 6,
   "metadata": {},
   "outputs": [],
   "source": [
    "trump_comm_mention_df = comm_mention_df[comm_mention_df[\"author_community\"] == \"trump\"]\n",
    "biden_comm_mention_df = comm_mention_df[comm_mention_df[\"author_community\"] == \"biden\"]"
   ]
  },
  {
   "cell_type": "code",
   "execution_count": 7,
   "metadata": {},
   "outputs": [
    {
     "name": "stdout",
     "output_type": "stream",
     "text": [
      "Total mentions in trump community: 100052\n",
      "Total mentions in biden community: 54878\n"
     ]
    }
   ],
   "source": [
    "# get total mentions in each community\n",
    "trump_total_mentions = trump_comm_mention_df[\"count\"].sum()\n",
    "biden_total_mentions = biden_comm_mention_df[\"count\"].sum()\n",
    "print(f\"Total mentions in trump community: {trump_total_mentions}\")\n",
    "print(f\"Total mentions in biden community: {biden_total_mentions}\")"
   ]
  },
  {
   "cell_type": "code",
   "execution_count": 10,
   "metadata": {},
   "outputs": [
    {
     "data": {
      "text/html": [
       "<div>\n",
       "<style scoped>\n",
       "    .dataframe tbody tr th:only-of-type {\n",
       "        vertical-align: middle;\n",
       "    }\n",
       "\n",
       "    .dataframe tbody tr th {\n",
       "        vertical-align: top;\n",
       "    }\n",
       "\n",
       "    .dataframe thead th {\n",
       "        text-align: right;\n",
       "    }\n",
       "</style>\n",
       "<table border=\"1\" class=\"dataframe\">\n",
       "  <thead>\n",
       "    <tr style=\"text-align: right;\">\n",
       "      <th></th>\n",
       "      <th>community</th>\n",
       "      <th>inside</th>\n",
       "      <th>outside</th>\n",
       "    </tr>\n",
       "  </thead>\n",
       "  <tbody>\n",
       "    <tr>\n",
       "      <th>0</th>\n",
       "      <td>trump</td>\n",
       "      <td>0.699830</td>\n",
       "      <td>0.059904</td>\n",
       "    </tr>\n",
       "    <tr>\n",
       "      <th>1</th>\n",
       "      <td>biden</td>\n",
       "      <td>0.534552</td>\n",
       "      <td>0.157632</td>\n",
       "    </tr>\n",
       "  </tbody>\n",
       "</table>\n",
       "</div>"
      ],
      "text/plain": [
       "  community    inside   outside\n",
       "0     trump  0.699830  0.059904\n",
       "1     biden  0.534552  0.157632"
      ]
     },
     "execution_count": 10,
     "metadata": {},
     "output_type": "execute_result"
    }
   ],
   "source": [
    "# Biden community mentions without Trump\n",
    "biden_comm_mention_df_nt = biden_comm_mention_df[\n",
    "    biden_comm_mention_df[\"user\"] != \"realDonaldTrump\"\n",
    "]\n",
    "# Trump community mentions without Biden\n",
    "trump_comm_mention_df_nt = trump_comm_mention_df[\n",
    "    trump_comm_mention_df[\"user\"] != \"JoeBiden\"\n",
    "]\n",
    "\n",
    "# Get the total number of mentions in each community\n",
    "trump_total_mentions = trump_comm_mention_df_nt[\"count\"].sum()\n",
    "biden_total_mentions = biden_comm_mention_df_nt[\"count\"].sum()\n",
    "\n",
    "# Get the total number of mentions inside and outside the community\n",
    "trump_inside_mentions = trump_comm_mention_df_nt[\n",
    "    trump_comm_mention_df_nt[\"user_community\"] == \"trump\"\n",
    "][\"count\"].sum()\n",
    "trump_outside_mentions = trump_comm_mention_df_nt[\n",
    "    trump_comm_mention_df_nt[\"user_community\"] == \"biden\"\n",
    "][\"count\"].sum()\n",
    "proportion_trump_inside = trump_inside_mentions / trump_total_mentions\n",
    "proportion_trump_outside = trump_outside_mentions / trump_total_mentions\n",
    "\n",
    "biden_inside_mentions = biden_comm_mention_df_nt[\n",
    "    biden_comm_mention_df_nt[\"user_community\"] == \"biden\"\n",
    "][\"count\"].sum()\n",
    "biden_outside_mentions = biden_comm_mention_df_nt[\n",
    "    biden_comm_mention_df_nt[\"user_community\"] == \"trump\"\n",
    "][\"count\"].sum()\n",
    "proportion_biden_inside = biden_inside_mentions / biden_total_mentions\n",
    "proportion_biden_outside = biden_outside_mentions / biden_total_mentions\n",
    "\n",
    "# Create a dataframe\n",
    "data = {\n",
    "    \"community\": [\"trump\", \"biden\"],\n",
    "    \"inside\": [proportion_trump_inside, proportion_biden_inside],\n",
    "    \"outside\": [proportion_trump_outside, proportion_biden_outside],\n",
    "}\n",
    "df = pd.DataFrame(data)\n",
    "df.head()"
   ]
  }
 ],
 "metadata": {
  "kernelspec": {
   "display_name": "base",
   "language": "python",
   "name": "python3"
  },
  "language_info": {
   "codemirror_mode": {
    "name": "ipython",
    "version": 3
   },
   "file_extension": ".py",
   "mimetype": "text/x-python",
   "name": "python",
   "nbconvert_exporter": "python",
   "pygments_lexer": "ipython3",
   "version": "3.10.9"
  }
 },
 "nbformat": 4,
 "nbformat_minor": 2
}
