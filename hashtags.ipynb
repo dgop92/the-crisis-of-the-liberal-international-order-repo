{
 "cells": [
  {
   "cell_type": "markdown",
   "metadata": {},
   "source": [
    "# Hashtags"
   ]
  },
  {
   "cell_type": "code",
   "execution_count": 12,
   "metadata": {},
   "outputs": [],
   "source": [
    "HASHTAG_RESULTS_PATH = \"data/author_hashtags_map.json\"\n",
    "COMMUNITY_MAP_PATH = \"data/community_map.pickle\""
   ]
  },
  {
   "cell_type": "code",
   "execution_count": 13,
   "metadata": {},
   "outputs": [],
   "source": [
    "import json\n",
    "import pickle\n",
    "from typing import Union, Dict\n",
    "\n",
    "\n",
    "def load_json_results(filename: str) -> Union[dict, list]:\n",
    "    with open(filename, \"r\", encoding=\"utf-8\") as f:\n",
    "        return json.load(f)\n",
    "    \n",
    "def load_data_from_pickle(filename: str):\n",
    "    with open(filename, \"rb\") as f:\n",
    "        return pickle.load(f)"
   ]
  },
  {
   "cell_type": "code",
   "execution_count": 14,
   "metadata": {},
   "outputs": [],
   "source": [
    "from collections import Counter\n",
    "import pandas as pd\n",
    "\n",
    "\n",
    "author_hashtags = load_json_results(HASHTAG_RESULTS_PATH)\n",
    "community_map: Dict[str, int] = load_data_from_pickle(\n",
    "        COMMUNITY_MAP_PATH\n",
    ")"
   ]
  },
  {
   "cell_type": "code",
   "execution_count": 15,
   "metadata": {},
   "outputs": [],
   "source": [
    "# filter authors by community biden and trump\n",
    "trump_hashtags = []\n",
    "biden_hashtags = []\n",
    "\n",
    "for author, hashtags in author_hashtags.items():\n",
    "    if community_map.get(author, \"none\") == \"trump\":\n",
    "        trump_hashtags.extend(hashtags)\n",
    "    elif community_map.get(author, \"none\") == \"biden\":\n",
    "        biden_hashtags.extend(hashtags)"
   ]
  },
  {
   "cell_type": "code",
   "execution_count": 16,
   "metadata": {},
   "outputs": [],
   "source": [
    "trump_hashtags_counter = Counter([s.lower() for s in trump_hashtags])\n",
    "biden_hashtags_counter = Counter([s.lower() for s in biden_hashtags])\n",
    "\n",
    "top30_trump_hashtags = trump_hashtags_counter.most_common(30)\n",
    "top30_biden_hashtags = biden_hashtags_counter.most_common(30)\n",
    "\n",
    "top30_trump_hashtags = pd.DataFrame(top30_trump_hashtags, columns=[\"hashtag\", \"count\"])\n",
    "top30_biden_hashtags = pd.DataFrame(top30_biden_hashtags, columns=[\"hashtag\", \"count\"])\n",
    "\n",
    "top30_trump_hashtags.to_csv(\"output/top30_trump_hashtags.csv\", index=False)\n",
    "top30_biden_hashtags.to_csv(\"output/top30_biden_hashtags.csv\", index=False)"
   ]
  },
  {
   "cell_type": "code",
   "execution_count": 17,
   "metadata": {},
   "outputs": [
    {
     "name": "stdout",
     "output_type": "stream",
     "text": [
      "9025\n"
     ]
    }
   ],
   "source": [
    "print(len(trump_hashtags_counter) + len(biden_hashtags_counter))"
   ]
  }
 ],
 "metadata": {
  "kernelspec": {
   "display_name": "base",
   "language": "python",
   "name": "python3"
  },
  "language_info": {
   "codemirror_mode": {
    "name": "ipython",
    "version": 3
   },
   "file_extension": ".py",
   "mimetype": "text/x-python",
   "name": "python",
   "nbconvert_exporter": "python",
   "pygments_lexer": "ipython3",
   "version": "3.10.9"
  }
 },
 "nbformat": 4,
 "nbformat_minor": 2
}
